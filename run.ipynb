{
 "cells": [
  {
   "cell_type": "markdown",
   "metadata": {},
   "source": [
    "**Installing all dependencies in the virtual environment**"
   ]
  },
  {
   "cell_type": "code",
   "execution_count": null,
   "metadata": {},
   "outputs": [],
   "source": [
    "# !pip install faker\n",
    "# !pip install pandas\n",
    "# !pip install -U langchain-openai\n",
    "# !pip install python-magic\n",
    "# !pip install unstructured\n",
    "# !pip install chromadb\n",
    "# !pip install langchain-community\n",
    "# !pip install python-dotenv"
   ]
  },
  {
   "cell_type": "markdown",
   "metadata": {},
   "source": [
    "**Loading our Open AI keys from the .env file with the environment variables**"
   ]
  },
  {
   "cell_type": "code",
   "execution_count": 5,
   "metadata": {},
   "outputs": [
    {
     "name": "stdout",
     "output_type": "stream",
     "text": [
      "sk-DH1sAkrO9XwHsEyQghWEC0EFFZ_ZfY7ndVqLBujOdcT3BlbkFJ_DhJNv9BDNayq4v1fIIq2RCfBAAKbIluCwY84EZu8A\n",
      "org-ypFgpE2yAbQ977mCHW2d9K2r\n"
     ]
    }
   ],
   "source": [
    "from dotenv import load_dotenv\n",
    "import os\n",
    "\n",
    "load_dotenv()\n",
    "print(os.getenv(\"OPENAI_API_KEY\"))\n",
    "print(os.getenv(\"OPENAI_ORGANIZATION_ID\"))"
   ]
  },
  {
   "cell_type": "markdown",
   "metadata": {},
   "source": [
    "**Running these files to generate relevant files for testing:**\n",
    "\n",
    "1. **python3 data_gen.py**\n",
    "2. **python3 role_gen.py**\n"
   ]
  },
  {
   "cell_type": "markdown",
   "metadata": {},
   "source": [
    "**Now we create the database by chunking our database and storing it in the chroma db. We use the following file for that:**\n",
    "\n",
    "**python3 generate_database.py**\n",
    "\n",
    "**Finally, we query our database, and ask it any question in the following format**\n",
    "\n",
    "**python3 query_data \"*My Question*\"**"
   ]
  },
  {
   "cell_type": "code",
   "execution_count": null,
   "metadata": {},
   "outputs": [],
   "source": []
  },
  {
   "cell_type": "markdown",
   "metadata": {},
   "source": [
    "***Evaluating the model***"
   ]
  },
  {
   "cell_type": "code",
   "execution_count": null,
   "metadata": {},
   "outputs": [],
   "source": []
  }
 ],
 "metadata": {
  "kernelspec": {
   "display_name": ".venv",
   "language": "python",
   "name": "python3"
  },
  "language_info": {
   "codemirror_mode": {
    "name": "ipython",
    "version": 3
   },
   "file_extension": ".py",
   "mimetype": "text/x-python",
   "name": "python",
   "nbconvert_exporter": "python",
   "pygments_lexer": "ipython3",
   "version": "3.12.5"
  }
 },
 "nbformat": 4,
 "nbformat_minor": 2
}
